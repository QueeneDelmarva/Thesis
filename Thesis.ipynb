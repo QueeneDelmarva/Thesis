{
  "nbformat": 4,
  "nbformat_minor": 0,
  "metadata": {
    "colab": {
      "provenance": [],
      "authorship_tag": "ABX9TyNDbK5+lnXJ0X+0EmqfnrQ1",
      "include_colab_link": true
    },
    "kernelspec": {
      "name": "python3",
      "display_name": "Python 3"
    },
    "language_info": {
      "name": "python"
    }
  },
  "cells": [
    {
      "cell_type": "markdown",
      "metadata": {
        "id": "view-in-github",
        "colab_type": "text"
      },
      "source": [
        "<a href=\"https://colab.research.google.com/github/QueeneDelmarva/Thesis/blob/main/Thesis.ipynb\" target=\"_parent\"><img src=\"https://colab.research.google.com/assets/colab-badge.svg\" alt=\"Open In Colab\"/></a>"
      ]
    },
    {
      "cell_type": "markdown",
      "source": [
        "# **Thesis Code**"
      ],
      "metadata": {
        "id": "JuXjnvCDUNzk"
      }
    },
    {
      "cell_type": "markdown",
      "source": [
        "## Importing Libraries"
      ],
      "metadata": {
        "id": "vA2DqlMRUwCX"
      }
    },
    {
      "cell_type": "code",
      "execution_count": null,
      "metadata": {
        "id": "XbNhQF4XUJRc"
      },
      "outputs": [],
      "source": [
        "# Connect to Gdrive\n",
        "from google.colab import drive\n",
        "\n",
        "# Connect to Gsheets\n",
        "import gspread\n",
        "from oauth2client.service_account import ServiceAccountCredentials\n",
        "\n",
        "import string\n",
        "from google.colab import auth\n",
        "from google.auth import default"
      ]
    },
    {
      "cell_type": "markdown",
      "source": [
        "## Connecting to Gdrive"
      ],
      "metadata": {
        "id": "aoNysK_-Xwnx"
      }
    },
    {
      "cell_type": "code",
      "source": [
        "# Mount Google Drive\n",
        "drive.mount('/content/drive')"
      ],
      "metadata": {
        "colab": {
          "base_uri": "https://localhost:8080/"
        },
        "id": "ONK66ZwtXwtD",
        "outputId": "5dadea76-0d3f-40ae-8452-fb2515b27cee"
      },
      "execution_count": null,
      "outputs": [
        {
          "output_type": "stream",
          "name": "stdout",
          "text": [
            "Drive already mounted at /content/drive; to attempt to forcibly remount, call drive.mount(\"/content/drive\", force_remount=True).\n"
          ]
        }
      ]
    },
    {
      "cell_type": "markdown",
      "source": [
        "## Connecting to GSheets"
      ],
      "metadata": {
        "id": "AXJU0KlqU7EF"
      }
    },
    {
      "cell_type": "code",
      "source": [
        "# Define the scope and create the credentials using the file in your Google Drive\n",
        "scope = ['https://spreadsheets.google.com/feeds', 'https://www.googleapis.com/auth/drive']\n",
        "creds = ServiceAccountCredentials.from_json_keyfile_name('/content/drive/MyDrive/skripsi-394804-a98ea9715aa4.json', scope)\n",
        "\n",
        "# Authenticate with gspread\n",
        "client = gspread.authorize(creds)\n",
        "\n",
        "# Open a specific Google Sheet by its title or URL\n",
        "sheet = client.open_by_key('1RlZ8-XwwEueuCAq4nXGwq3ZmPDE-_0gP3PsroKeNFGo').sheet1\n",
        "\n",
        "\n",
        "# ## Read the data from the Gsheets\n",
        "# # 1. Read individual cells\n",
        "# cell_value = sheet.cell(3, 5).value\n",
        "# print(cell_value)\n",
        "\n",
        "# # 2. Read all values from the first worksheet\n",
        "# data = sheet.get_all_values()\n",
        "\n",
        "# # Print the data\n",
        "# for row in data:\n",
        "#     print(row)"
      ],
      "metadata": {
        "id": "-OYarUCrU7Sr"
      },
      "execution_count": null,
      "outputs": []
    },
    {
      "cell_type": "markdown",
      "source": [
        "## **Radix Trie**\n",
        "---\n",
        "Classes:\n",
        "*   Node\n",
        "*   Function"
      ],
      "metadata": {
        "id": "ij-Zfls_cM90"
      }
    },
    {
      "cell_type": "markdown",
      "source": [
        "### Radix Trie Node"
      ],
      "metadata": {
        "id": "eZjAa09wctzp"
      }
    },
    {
      "cell_type": "code",
      "source": [
        "# Defines a class representing a single node in the radix trie, holding information about its children and whether it marks the end of a word.\n",
        "class RadixTrieNode:\n",
        "    def __init__(self):\n",
        "        self.children = {}\n",
        "        self.is_end_of_word = False"
      ],
      "metadata": {
        "id": "xgsecwRqcNLa"
      },
      "execution_count": null,
      "outputs": []
    },
    {
      "cell_type": "markdown",
      "source": [
        "### Radix Trie Function"
      ],
      "metadata": {
        "id": "jvwBCoNActvv"
      }
    },
    {
      "cell_type": "code",
      "source": [
        "# Defines a class that implements a radix trie data structure, allowing efficient storage and retrieval of a set of strings with common prefixes.\n",
        "class RadixTrie:\n",
        "    def __init__(self):\n",
        "        self.root = RadixTrieNode()\n",
        "\n",
        "    def insert(self, word):\n",
        "        node = self.root\n",
        "        for char in word:\n",
        "            if char not in node.children:\n",
        "                node.children[char] = RadixTrieNode()\n",
        "            node = node.children[char]\n",
        "        node.is_end_of_word = True\n",
        "\n",
        "    def traverse(self, node=None, prefix=\"\"):\n",
        "        if node is None:\n",
        "            node = self.root\n",
        "\n",
        "        if node.is_end_of_word:\n",
        "            words = prefix.split()  # Split the phrase into individual words\n",
        "            for word in words:\n",
        "                print(\"Word:\", word)\n",
        "\n",
        "        for char, child in node.children.items():\n",
        "            self.traverse(child, prefix + char)"
      ],
      "metadata": {
        "id": "GHu5eLPQctnc"
      },
      "execution_count": null,
      "outputs": []
    },
    {
      "cell_type": "markdown",
      "source": [
        "### **Main Function**"
      ],
      "metadata": {
        "id": "z0GsjWoqVe29"
      }
    },
    {
      "cell_type": "code",
      "source": [
        "def main():\n",
        "    # Read all values from the first worksheet\n",
        "    data = sheet.get_all_values()\n",
        "\n",
        "    # Build the Radix Trie from the data\n",
        "    trie = RadixTrie()\n",
        "    for row in data:\n",
        "        for word in row:\n",
        "            trie.insert(word)\n",
        "\n",
        "    # Traverse and print the trie nodes and their children\n",
        "    print(\"Nodes and Their Children:\")\n",
        "    trie.traverse()\n",
        "\n",
        "if __name__ == \"__main__\":\n",
        "    main()"
      ],
      "metadata": {
        "colab": {
          "base_uri": "https://localhost:8080/"
        },
        "id": "5VoBr7nSVert",
        "outputId": "13e98155-3d16-4ac9-f7ec-b34c24f0e7b5"
      },
      "execution_count": null,
      "outputs": [
        {
          "output_type": "stream",
          "name": "stdout",
          "text": [
            "Nodes and Their Children:\n",
            "Word: Date\n",
            "Word: From\n",
            "Word: To\n",
            "Word: Subject\n",
            "Word: Content\n",
            "Word: 01/02/2023\n",
            "Word: Raymond\n",
            "Word: Koh\n",
            "Word: Re:\n",
            "Word: Ground\n",
            "Word: Transport\n",
            "Word: Request\n",
            "Word: -\n",
            "Word: T7977\n",
            "Word: -\n",
            "Word: FS0012023\n",
            "Word: -\n",
            "Word: Wed\n",
            "Word: 01\n",
            "Word: Feb\n",
            "Word: 2023\n",
            "Word: 0840\n",
            "Word: LT\n",
            "Word: ACAM\n",
            "Word: OCC\n",
            "Word: Noted\n",
            "Word: and\n",
            "Word: confirmed\n",
            "Word: thanks.\n",
            "Word: Ground\n",
            "Word: Transport\n",
            "Word: Request\n",
            "Word: -\n",
            "Word: T7977\n",
            "Word: -\n",
            "Word: FS0012023\n",
            "Word: -\n",
            "Word: Wed\n",
            "Word: 01\n",
            "Word: Feb\n",
            "Word: 2023\n",
            "Word: 0840\n",
            "Word: LT\n",
            "Word: Ground\n",
            "Word: Transport\n",
            "Word: Request\n",
            "Word: -\n",
            "Word: T7977\n",
            "Word: -\n",
            "Word: FS0012023\n",
            "Word: -\n",
            "Word: Tue\n",
            "Word: 31\n",
            "Word: Jan\n",
            "Word: 2023\n",
            "Word: 1930LT\n",
            "Word: Please\n",
            "Word: arrange\n",
            "Word: Ground\n",
            "Word: Transportation\n",
            "Word: as\n",
            "Word: follows:\n",
            "Word: Request\n",
            "Word: Date:\n",
            "Word: Wed\n",
            "Word: 01\n",
            "Word: Feb\n",
            "Word: 2023\n",
            "Word: Request\n",
            "Word: Time:\n",
            "Word: QG-552\n",
            "Word: ETA\n",
            "Word: 0840LT\n",
            "Word: CHANGI\n",
            "Word: AIRPORT\n",
            "Word: Drop-off\n",
            "Word: Location:\n",
            "Word: SELETAR\n",
            "Word: BUSINESS\n",
            "Word: AVIATION\n",
            "Word: CENTRE21\n",
            "Word: SELETAR\n",
            "Word: AEROSPACE\n",
            "Word: ROAD\n",
            "Word: 1797405,\n",
            "Word: SINGAPORE\n",
            "Word: Vehicles:\n",
            "Word: Limousine\n",
            "Word: Passenger:\n",
            "Word: 01,\n",
            "Word: FA\n",
            "Word: QUWENSE\n",
            "Word: JHASLETHA\n",
            "Word: TUMBOIMBELLA\n",
            "Word: Rmark:\n",
            "Word: please\n",
            "Word: arrange\n",
            "Word: MPV\n",
            "Word: as\n",
            "Word: FA\n",
            "Word: has\n",
            "Word: a\n",
            "Word: few\n",
            "Word: luggage\n",
            "Word: with\n",
            "Word: her.\n",
            "Word: Please\n",
            "Word: arrange\n",
            "Word: Ground\n",
            "Word: Transportation\n",
            "Word: as\n",
            "Word: follows:\n",
            "Word: Request\n",
            "Word: Date:\n",
            "Word: Tue\n",
            "Word: 31\n",
            "Word: Jan\n",
            "Word: 2023\n",
            "Word: Request\n",
            "Word: Time:\n",
            "Word: 1930LT\n",
            "Word: Pickup\n",
            "Word: Location:\n",
            "Word: SBAC\n",
            "Word: Drop-off\n",
            "Word: Location:\n",
            "Word: TBA\n",
            "Word: HOTEL\n",
            "Word: Vehicles:\n",
            "Word: Limousine\n",
            "Word: Passenger:\n",
            "Word: 03\n",
            "Word: CREW\n",
            "Word: Comments:\n",
            "Word: 31JAN\n",
            "Word: /\n",
            "Word: 1930LT\n",
            "Word: SBAC\n",
            "Word: -\n",
            "Word: TBA\n",
            "Word: HOTEL\n"
          ]
        }
      ]
    }
  ]
}