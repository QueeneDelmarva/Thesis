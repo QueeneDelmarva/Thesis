{
  "nbformat": 4,
  "nbformat_minor": 0,
  "metadata": {
    "colab": {
      "provenance": [],
      "authorship_tag": "ABX9TyNeWUf2Kqb3g+DNReSsZe/h",
      "include_colab_link": true
    },
    "kernelspec": {
      "name": "python3",
      "display_name": "Python 3"
    },
    "language_info": {
      "name": "python"
    }
  },
  "cells": [
    {
      "cell_type": "markdown",
      "metadata": {
        "id": "view-in-github",
        "colab_type": "text"
      },
      "source": [
        "<a href=\"https://colab.research.google.com/github/QueeneDelmarva/Thesis/blob/main/Thesis.ipynb\" target=\"_parent\"><img src=\"https://colab.research.google.com/assets/colab-badge.svg\" alt=\"Open In Colab\"/></a>"
      ]
    },
    {
      "cell_type": "markdown",
      "source": [
        "# **Thesis Code**"
      ],
      "metadata": {
        "id": "JuXjnvCDUNzk"
      }
    },
    {
      "cell_type": "markdown",
      "source": [
        "## Importing Libraries"
      ],
      "metadata": {
        "id": "vA2DqlMRUwCX"
      }
    },
    {
      "cell_type": "code",
      "execution_count": 1,
      "metadata": {
        "id": "XbNhQF4XUJRc"
      },
      "outputs": [],
      "source": [
        "# Connect to Gdrive\n",
        "from google.colab import drive\n",
        "\n",
        "# Connect to Gsheets\n",
        "import gspread\n",
        "from oauth2client.service_account import ServiceAccountCredentials\n",
        "\n",
        "# Preprocessing\n",
        "import re\n",
        "import nltk\n",
        "\n",
        "import string\n",
        "from google.colab import auth\n",
        "from google.auth import default"
      ]
    },
    {
      "cell_type": "markdown",
      "source": [
        "## Connecting to Gdrive"
      ],
      "metadata": {
        "id": "aoNysK_-Xwnx"
      }
    },
    {
      "cell_type": "code",
      "source": [
        "# Mount Google Drive\n",
        "drive.mount('/content/drive')"
      ],
      "metadata": {
        "colab": {
          "base_uri": "https://localhost:8080/"
        },
        "id": "ONK66ZwtXwtD",
        "outputId": "71acd5e6-fb8d-40b7-88bf-1e038daa833d"
      },
      "execution_count": 2,
      "outputs": [
        {
          "output_type": "stream",
          "name": "stdout",
          "text": [
            "Drive already mounted at /content/drive; to attempt to forcibly remount, call drive.mount(\"/content/drive\", force_remount=True).\n"
          ]
        }
      ]
    },
    {
      "cell_type": "markdown",
      "source": [
        "## Connecting to GSheets"
      ],
      "metadata": {
        "id": "AXJU0KlqU7EF"
      }
    },
    {
      "cell_type": "code",
      "source": [
        "# Define the scope and create the credentials using the file in your Google Drive\n",
        "scope = ['https://spreadsheets.google.com/feeds', 'https://www.googleapis.com/auth/drive']\n",
        "creds = ServiceAccountCredentials.from_json_keyfile_name('/content/drive/MyDrive/skripsi-394804-a98ea9715aa4.json', scope)\n",
        "\n",
        "# Authenticate with gspread\n",
        "client = gspread.authorize(creds)\n",
        "\n",
        "# Open a specific Google Sheet by its title or URL\n",
        "sheet = client.open_by_key('1RlZ8-XwwEueuCAq4nXGwq3ZmPDE-_0gP3PsroKeNFGo').sheet1\n",
        "\n",
        "# ## Read the data from the Gsheets\n",
        "# # 1. Read individual cells\n",
        "# cell_value = sheet.cell(3, 5).value\n",
        "# print(cell_value)\n",
        "\n",
        "# # 2. Read all values from the first worksheet\n",
        "# data = sheet.get_all_values()\n",
        "\n",
        "# # Print the data\n",
        "# for row in data:\n",
        "#     print(row)"
      ],
      "metadata": {
        "id": "-OYarUCrU7Sr"
      },
      "execution_count": 3,
      "outputs": []
    },
    {
      "cell_type": "markdown",
      "source": [
        "## Preprocessing Data"
      ],
      "metadata": {
        "id": "IaSWQ06nhAvH"
      }
    },
    {
      "cell_type": "code",
      "source": [
        "def preprocess(word):\n",
        "    # Separate words based on non-alphabetic characters\n",
        "    words = re.findall(r'\\b(?:[a-zA-Z0-9]+)\\b', word)\n",
        "\n",
        "    # Convert words to lowercase\n",
        "    lowercase_words = [w.lower() for w in words]\n",
        "\n",
        "    return lowercase_words"
      ],
      "metadata": {
        "id": "6eRtztjshA7P"
      },
      "execution_count": 4,
      "outputs": []
    },
    {
      "cell_type": "markdown",
      "source": [
        "## **Radix Trie**\n",
        "---\n",
        "Classes:\n",
        "*   Node\n",
        "*   Function"
      ],
      "metadata": {
        "id": "ij-Zfls_cM90"
      }
    },
    {
      "cell_type": "markdown",
      "source": [
        "### Radix Trie Node"
      ],
      "metadata": {
        "id": "eZjAa09wctzp"
      }
    },
    {
      "cell_type": "code",
      "source": [
        "# Defines a class representing a single node in the radix trie, holding information about its children and whether it marks the end of a word.\n",
        "class RadixTrieNode:\n",
        "    def __init__(self):\n",
        "        self.children = {}\n",
        "        self.is_end_of_word = False"
      ],
      "metadata": {
        "id": "xgsecwRqcNLa"
      },
      "execution_count": 5,
      "outputs": []
    },
    {
      "cell_type": "markdown",
      "source": [
        "### Radix Trie Function"
      ],
      "metadata": {
        "id": "jvwBCoNActvv"
      }
    },
    {
      "cell_type": "code",
      "source": [
        "# Defines a class that implements a radix trie data structure, allowing efficient storage and retrieval of a set of strings with common prefixes.\n",
        "class RadixTrie:\n",
        "    def __init__(self):\n",
        "        self.root = RadixTrieNode()\n",
        "\n",
        "    # Adds a word to the Radix Trie by creating or traversing the appropriate nodes for each character in the word.\n",
        "    def insert(self, word):\n",
        "        node = self.root\n",
        "        for char in word:\n",
        "            if char not in node.children:\n",
        "                node.children[char] = RadixTrieNode()\n",
        "            node = node.children[char]\n",
        "        node.is_end_of_word = True\n",
        "\n",
        "    # Finds all words in the Radix Trie that have the given prefix, returning them as a list of results.\n",
        "    def search(self, prefix):\n",
        "        node = self.root\n",
        "        for char in prefix:\n",
        "            if char not in node.children:\n",
        "                return []  # Prefix not found, return an empty list\n",
        "            node = node.children[char]\n",
        "        return self.collect_words(node, prefix)\n",
        "\n",
        "    # Recursively explores the Radix Trie's child nodes\n",
        "    def collect_words(self, node, current_prefix):\n",
        "        results = []\n",
        "        if node.is_end_of_word:\n",
        "            results.append(current_prefix)\n",
        "        for char, child in node.children.items():\n",
        "            word = current_prefix + char\n",
        "            results.extend(self.collect_words(child, word))\n",
        "        return results\n",
        "\n",
        "    def get_all_words(self):\n",
        "        return self.collect_words(self.root, \"\")"
      ],
      "metadata": {
        "id": "GHu5eLPQctnc"
      },
      "execution_count": 14,
      "outputs": []
    },
    {
      "cell_type": "markdown",
      "source": [
        "### **Main Function**"
      ],
      "metadata": {
        "id": "z0GsjWoqVe29"
      }
    },
    {
      "cell_type": "code",
      "source": [
        "def main():\n",
        "    # Read all values from the first worksheet\n",
        "    data = sheet.get_all_values()\n",
        "\n",
        "    # Build the Radix Trie from the data\n",
        "    trie = RadixTrie()\n",
        "    for row in data:\n",
        "        for word in row:\n",
        "            preprocessed_words = preprocess(word)\n",
        "            for preprocessed_word in preprocessed_words:\n",
        "                if preprocessed_word:  # Skip empty words after preprocessing\n",
        "                    trie.insert(preprocessed_word)\n",
        "\n",
        "    # Print the nodes and their children after inserting all the words\n",
        "    # print(\"Nodes and Their Children:\")\n",
        "    results = trie.search(\"h\")\n",
        "    print(results)\n",
        "    # trie.search(\"\")\n",
        "\n",
        "    # Print the original words and their preprocessed words\n",
        "    for row in data:\n",
        "        for word in row:\n",
        "            preprocessed_words = preprocess(word)\n",
        "            # print(\"Word:\", word, \"Preprocessed Words:\", preprocessed_words)\n",
        "\n",
        "if __name__ == \"__main__\":\n",
        "    main()"
      ],
      "metadata": {
        "colab": {
          "base_uri": "https://localhost:8080/"
        },
        "id": "5VoBr7nSVert",
        "outputId": "0844601d-5eda-409e-b986-b26b9718ff2e"
      },
      "execution_count": 21,
      "outputs": [
        {
          "output_type": "stream",
          "name": "stdout",
          "text": [
            "['has', 'her', 'hotel']\n"
          ]
        }
      ]
    }
  ]
}