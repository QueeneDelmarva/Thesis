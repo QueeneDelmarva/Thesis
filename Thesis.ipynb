{
  "nbformat": 4,
  "nbformat_minor": 0,
  "metadata": {
    "colab": {
      "provenance": [],
      "authorship_tag": "ABX9TyNxgIUuIZchx/kfXc7pPIrv",
      "include_colab_link": true
    },
    "kernelspec": {
      "name": "python3",
      "display_name": "Python 3"
    },
    "language_info": {
      "name": "python"
    }
  },
  "cells": [
    {
      "cell_type": "markdown",
      "metadata": {
        "id": "view-in-github",
        "colab_type": "text"
      },
      "source": [
        "<a href=\"https://colab.research.google.com/github/QueeneDelmarva/Thesis/blob/main/Thesis.ipynb\" target=\"_parent\"><img src=\"https://colab.research.google.com/assets/colab-badge.svg\" alt=\"Open In Colab\"/></a>"
      ]
    },
    {
      "cell_type": "markdown",
      "source": [
        "# **Thesis Code**"
      ],
      "metadata": {
        "id": "JuXjnvCDUNzk"
      }
    },
    {
      "cell_type": "markdown",
      "source": [
        "## Importing Libraries"
      ],
      "metadata": {
        "id": "vA2DqlMRUwCX"
      }
    },
    {
      "cell_type": "code",
      "execution_count": 1,
      "metadata": {
        "id": "XbNhQF4XUJRc"
      },
      "outputs": [],
      "source": [
        "# Connect to Gdrive\n",
        "from google.colab import drive\n",
        "\n",
        "# Connect to Gsheets\n",
        "import gspread\n",
        "from oauth2client.service_account import ServiceAccountCredentials\n",
        "\n",
        "# Preprocessing\n",
        "import re\n",
        "import nltk\n",
        "\n",
        "import string\n",
        "from google.colab import auth\n",
        "from google.auth import default"
      ]
    },
    {
      "cell_type": "markdown",
      "source": [
        "## Connecting to Gdrive"
      ],
      "metadata": {
        "id": "aoNysK_-Xwnx"
      }
    },
    {
      "cell_type": "code",
      "source": [
        "# Mount Google Drive\n",
        "drive.mount('/content/drive')"
      ],
      "metadata": {
        "colab": {
          "base_uri": "https://localhost:8080/"
        },
        "id": "ONK66ZwtXwtD",
        "outputId": "68097934-d180-4bf2-ed19-ec1b89dfc5e7"
      },
      "execution_count": 2,
      "outputs": [
        {
          "output_type": "stream",
          "name": "stdout",
          "text": [
            "Drive already mounted at /content/drive; to attempt to forcibly remount, call drive.mount(\"/content/drive\", force_remount=True).\n"
          ]
        }
      ]
    },
    {
      "cell_type": "markdown",
      "source": [
        "## Connecting to GSheets"
      ],
      "metadata": {
        "id": "AXJU0KlqU7EF"
      }
    },
    {
      "cell_type": "code",
      "source": [
        "# Define the scope and create the credentials using the file in your Google Drive\n",
        "scope = ['https://spreadsheets.google.com/feeds', 'https://www.googleapis.com/auth/drive']\n",
        "creds = ServiceAccountCredentials.from_json_keyfile_name('/content/drive/MyDrive/skripsi-394804-a98ea9715aa4.json', scope)\n",
        "\n",
        "# Authenticate with gspread\n",
        "client = gspread.authorize(creds)\n",
        "\n",
        "# Open a specific Google Sheet by its title or URL\n",
        "sheet = client.open_by_key('1RlZ8-XwwEueuCAq4nXGwq3ZmPDE-_0gP3PsroKeNFGo').sheet1\n",
        "\n",
        "# ## Read the data from the Gsheets\n",
        "# # 1. Read individual cells\n",
        "# cell_value = sheet.cell(3, 5).value\n",
        "# print(cell_value)\n",
        "\n",
        "# # 2. Read all values from the first worksheet\n",
        "# data = sheet.get_all_values()\n",
        "\n",
        "# # Print the data\n",
        "# for row in data:\n",
        "#     print(row)"
      ],
      "metadata": {
        "id": "-OYarUCrU7Sr"
      },
      "execution_count": 3,
      "outputs": []
    },
    {
      "cell_type": "markdown",
      "source": [
        "## Preprocessing Data"
      ],
      "metadata": {
        "id": "IaSWQ06nhAvH"
      }
    },
    {
      "cell_type": "code",
      "source": [
        "def preprocess(word):\n",
        "    # Separate words based on non-alphabetic characters\n",
        "    words = re.findall(r'\\b(?:[a-zA-Z0-9]+)\\b', word)\n",
        "\n",
        "    # Convert words to lowercase\n",
        "    lowercase_words = [w.lower() for w in words]\n",
        "\n",
        "    return lowercase_words"
      ],
      "metadata": {
        "id": "6eRtztjshA7P"
      },
      "execution_count": 4,
      "outputs": []
    },
    {
      "cell_type": "markdown",
      "source": [
        "## **Radix Trie**\n",
        "---\n",
        "Classes:\n",
        "*   Node\n",
        "*   Function"
      ],
      "metadata": {
        "id": "ij-Zfls_cM90"
      }
    },
    {
      "cell_type": "markdown",
      "source": [
        "### Radix Trie Node"
      ],
      "metadata": {
        "id": "eZjAa09wctzp"
      }
    },
    {
      "cell_type": "code",
      "source": [
        "# Defines a class representing a single node in the radix trie, holding information about its children and whether it marks the end of a word.\n",
        "class RadixTrieNode:\n",
        "    def __init__(self):\n",
        "        self.children = {}\n",
        "        self.is_end_of_word = False"
      ],
      "metadata": {
        "id": "xgsecwRqcNLa"
      },
      "execution_count": 10,
      "outputs": []
    },
    {
      "cell_type": "markdown",
      "source": [
        "### Radix Trie Function"
      ],
      "metadata": {
        "id": "jvwBCoNActvv"
      }
    },
    {
      "cell_type": "code",
      "source": [
        "# Defines a class that implements a radix trie data structure, allowing efficient storage and retrieval of a set of strings with common prefixes.\n",
        "class RadixTrie:\n",
        "    def __init__(self):\n",
        "        self.root = RadixTrieNode()\n",
        "\n",
        "    def insert(self, word):\n",
        "        node = self.root\n",
        "        for char in word:\n",
        "            if char not in node.children:\n",
        "                node.children[char] = RadixTrieNode()\n",
        "            node = node.children[char]\n",
        "        node.is_end_of_word = True\n",
        "\n",
        "    def traverse(self, node=None, prefix=\"\"):\n",
        "        if node is None:\n",
        "            node = self.root\n",
        "\n",
        "        if node.is_end_of_word:\n",
        "            words = prefix.split()  # Split the phrase into individual words\n",
        "            for word in words:\n",
        "                print(\"Word:\", word)\n",
        "\n",
        "        for char, child in node.children.items():\n",
        "            self.traverse(child, prefix + char)"
      ],
      "metadata": {
        "id": "GHu5eLPQctnc"
      },
      "execution_count": 11,
      "outputs": []
    },
    {
      "cell_type": "markdown",
      "source": [
        "### **Main Function**"
      ],
      "metadata": {
        "id": "z0GsjWoqVe29"
      }
    },
    {
      "cell_type": "code",
      "source": [
        "def main():\n",
        "    # Read all values from the first worksheet\n",
        "    data = sheet.get_all_values()\n",
        "\n",
        "    # Build the Radix Trie from the preprocessed data\n",
        "    trie = RadixTrie()\n",
        "    for row in data:\n",
        "        for word in row:\n",
        "            preprocessed_words = preprocess(word)\n",
        "            for preprocessed_word in preprocessed_words:\n",
        "                if preprocessed_word: # Skip empty words after preprocessing\n",
        "                    trie.insert(preprocessed_word)\n",
        "\n",
        "    # Traverse and print the trie nodes and their children\n",
        "    print(\"Nodes and Their Children:\")\n",
        "    trie.traverse()\n",
        "\n",
        "if __name__ == \"__main__\":\n",
        "    main()"
      ],
      "metadata": {
        "colab": {
          "base_uri": "https://localhost:8080/"
        },
        "id": "5VoBr7nSVert",
        "outputId": "9f3e80f4-a270-4acc-d202-48b57a744c7a"
      },
      "execution_count": 12,
      "outputs": [
        {
          "output_type": "stream",
          "name": "stdout",
          "text": [
            "Nodes and Their Children:\n",
            "Word: date\n",
            "Word: drop\n",
            "Word: from\n",
            "Word: fs0012023\n",
            "Word: feb\n",
            "Word: few\n",
            "Word: follows\n",
            "Word: fa\n",
            "Word: to\n",
            "Word: transport\n",
            "Word: transportation\n",
            "Word: t7977\n",
            "Word: thanks\n",
            "Word: time\n",
            "Word: tumboimbella\n",
            "Word: tue\n",
            "Word: tba\n",
            "Word: subject\n",
            "Word: seletar\n",
            "Word: singapore\n",
            "Word: sbac\n",
            "Word: content\n",
            "Word: confirmed\n",
            "Word: comments\n",
            "Word: changi\n",
            "Word: centre21\n",
            "Word: crew\n",
            "Word: 01\n",
            "Word: 02\n",
            "Word: 0840\n",
            "Word: 0840lt\n",
            "Word: 03\n",
            "Word: 2023\n",
            "Word: raymond\n",
            "Word: re\n",
            "Word: request\n",
            "Word: road\n",
            "Word: rmark\n",
            "Word: koh\n",
            "Word: a\n",
            "Word: acam\n",
            "Word: and\n",
            "Word: arrange\n",
            "Word: as\n",
            "Word: airport\n",
            "Word: aviation\n",
            "Word: aerospace\n",
            "Word: occ\n",
            "Word: off\n",
            "Word: ground\n",
            "Word: wed\n",
            "Word: with\n",
            "Word: lt\n",
            "Word: location\n",
            "Word: limousine\n",
            "Word: luggage\n",
            "Word: noted\n",
            "Word: please\n",
            "Word: passenger\n",
            "Word: pickup\n",
            "Word: qg\n",
            "Word: quwense\n",
            "Word: 552\n",
            "Word: eta\n",
            "Word: business\n",
            "Word: 1797405\n",
            "Word: 1930lt\n",
            "Word: vehicles\n",
            "Word: jhasletha\n",
            "Word: jan\n",
            "Word: mpv\n",
            "Word: has\n",
            "Word: her\n",
            "Word: hotel\n",
            "Word: 31\n",
            "Word: 31jan\n"
          ]
        }
      ]
    },
    {
      "cell_type": "code",
      "source": [],
      "metadata": {
        "id": "VvZD1t6XkFXr"
      },
      "execution_count": null,
      "outputs": []
    }
  ]
}